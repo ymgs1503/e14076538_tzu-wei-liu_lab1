{
 "cells": [
  {
   "cell_type": "code",
   "execution_count": 1,
   "id": "d46552b3",
   "metadata": {},
   "outputs": [
    {
     "name": "stdout",
     "output_type": "stream",
     "text": [
      "Enter an integer:098750\n",
      "057890\n"
     ]
    }
   ],
   "source": [
    "def reverse(num):#建立function\n",
    "    \"\"\"reverse the number\"\"\"\n",
    "    new=0\n",
    "    while num>0:  #輸入的數字經處理過後還大於零則繼續處理\n",
    "        element=num%10  #取出最右邊位數\n",
    "        num=(num)//10   #將最右邊位數剃除，整個數字往右移\n",
    "        new=new*10+element  #將數字順序倒轉\n",
    "    if len(str(num))!=str(new):\n",
    "        new=new*10\n",
    "    if number % 10 ==0:  #當最右邊為零的狀況，輸出補給他零\n",
    "        print(f\"0{new}\")\n",
    "    else:    #其餘狀況正常輸出\n",
    "        print(new)\n",
    "\n",
    "number= int(input(\"Enter an integer:\"))    #使用者輸入數字\n",
    "reverse(number)   #數字反轉"
   ]
  },
  {
   "cell_type": "code",
   "execution_count": null,
   "id": "6775b68b",
   "metadata": {},
   "outputs": [],
   "source": []
  }
 ],
 "metadata": {
  "kernelspec": {
   "display_name": "Python 3",
   "language": "python",
   "name": "python3"
  },
  "language_info": {
   "codemirror_mode": {
    "name": "ipython",
    "version": 3
   },
   "file_extension": ".py",
   "mimetype": "text/x-python",
   "name": "python",
   "nbconvert_exporter": "python",
   "pygments_lexer": "ipython3",
   "version": "3.8.8"
  }
 },
 "nbformat": 4,
 "nbformat_minor": 5
}
