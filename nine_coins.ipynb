{
 "cells": [
  {
   "cell_type": "code",
   "execution_count": null,
   "id": "aa328edc",
   "metadata": {},
   "outputs": [],
   "source": [
    "import random\n",
    "def gogo(num, bin_str='', coin=''):  #轉成二進位、硬幣型式\n",
    "    count=0\n",
    "    for count in range(9):     #共九個硬幣，做九次\n",
    "        decimal = num\n",
    "        state_num = num % 2   #看最右邊位數是0或1\n",
    "        num = num // 2  #每次把數字除2右移\n",
    "        binary = 0\n",
    "        binary += state_num*(10**count)  #計算二進位\n",
    "        bin_str = str(state_num)+bin_str  #將二進位用str表示\n",
    "        if state_num == 0:                 #判斷硬幣狀態\n",
    "            coin = 'H' + coin\n",
    "        else:\n",
    "            coin = 'T' + coin\n",
    "    return bin_str, coin          #回傳二進位、硬幣型式\n",
    "\n",
    "\n",
    "class Nine_coins:\n",
    "    def __init__(self, num):   #初始化參數\n",
    "        self.number = num\n",
    "        binary=0\n",
    "        self.coin=''\n",
    "        self.bin_str=''\n",
    "        self.bin_str, self.coin = gogo(self.number, self.bin_str, self.coin)  #將數字轉成二進位及硬幣型式並回傳\n",
    "       \n",
    "    def __repr__(self):    #印出硬幣狀態\n",
    "        return(\"Nine_Coins: \"+ self.coin)\n",
    "    \n",
    "    def __str__(self):     #修改print印出的東西\n",
    "        return f\"binary: {self.bin_str} and decimal: {self.number}\"\n",
    "    \n",
    "    def toss(self):        #重新投擲\n",
    "        self.number = random.randint(0,511)     #產稱隨機0~511範圍的變數\n",
    "        self.bin_str, self.coin = gogo(self.number,'','')    #將新數字轉成二進位及硬幣型式並回傳"
   ]
  }
 ],
 "metadata": {
  "kernelspec": {
   "display_name": "Python 3",
   "language": "python",
   "name": "python3"
  },
  "language_info": {
   "codemirror_mode": {
    "name": "ipython",
    "version": 3
   },
   "file_extension": ".py",
   "mimetype": "text/x-python",
   "name": "python",
   "nbconvert_exporter": "python",
   "pygments_lexer": "ipython3",
   "version": "3.8.8"
  }
 },
 "nbformat": 4,
 "nbformat_minor": 5
}
