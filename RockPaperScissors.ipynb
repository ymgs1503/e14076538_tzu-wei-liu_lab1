{
 "cells": [
  {
   "cell_type": "code",
   "execution_count": 47,
   "id": "92d3d18e",
   "metadata": {},
   "outputs": [
    {
     "name": "stdout",
     "output_type": "stream",
     "text": [
      "Welcome to ROCK, PAPER,SCISSORS game!\n",
      "Enter your move:  (r)ock  (p)aper  (s)cissorsr\n",
      "ROCK versus...\n",
      "1\n",
      "ROCK\n",
      "It is a tie!\n",
      "Enter your move:  (r)ock  (p)aper  (s)cissorsp\n",
      "PAPER versus...\n",
      "2\n",
      "PAPER\n",
      "It is a tie!\n",
      "Enter your move:  (r)ock  (p)aper  (s)cissorsp\n",
      "PAPER versus...\n",
      "1\n",
      "ROCK\n",
      "You win!\n",
      "You have  2  ties and  0  losses before your first win.\n"
     ]
    }
   ],
   "source": [
    "import random\n",
    "lose=0     #紀錄次數\n",
    "tie=0\n",
    "win=0\n",
    "print(\"Welcome to ROCK, PAPER,SCISSORS game!\")\n",
    "\n",
    "while win!=1:    #只要還沒贏就繼續\n",
    "    move= input(\"Enter your move:  (r)ock  (p)aper  (s)cissors\")  #使用者輸入要出的\n",
    "\n",
    "    if move=='r':\n",
    "        print(\"ROCK versus...\")\n",
    "    elif move=='p':\n",
    "        print(\"PAPER versus...\")\n",
    "    elif move =='s':\n",
    "        print(\"SICCSSORS versus...\")\n",
    "    else:       #輸入的並非剪刀石頭布三者之一時，請他重新輸入\n",
    "        move=input(\"Sorry, please enter again:  (r)ock  (p)aper  (s)cissors \")\n",
    "    \n",
    "    num= random.randint(1, 3)   #電腦隨機跑出 1~3亂數\n",
    "    #print(num)\n",
    "\n",
    "    if num==1:   #分別把數字 1 2 3對應到剪刀石頭布\n",
    "        computer='r'\n",
    "        print(\"ROCK\")\n",
    "    elif num==2:\n",
    "        computer='p'\n",
    "        print(\"PAPER\")\n",
    "    else:\n",
    "        computer='s'\n",
    "        print(\"SCISSORS\")\n",
    "\n",
    "    if computer==move:   #用戶跟電腦平手\n",
    "        print(\"It is a tie!\")\n",
    "        tie+=1\n",
    "    elif (move=='s' and computer=='r') or (move=='r' and computer=='p') or (move=='p' and computer=='s'):  #用戶輸\n",
    "        print(\"You lose!\")\n",
    "        lose+=1\n",
    "    elif (move=='r' and computer=='s') or (move=='p' and computer=='r') or (move=='s' and computer=='p'):  #用戶贏\n",
    "        print(\"You win!\")\n",
    "        print(\"You have \", tie ,\" ties and \", lose ,\" losses before your first win.\")   #顯示總共平手、輸幾次\n",
    "        win+=1"
   ]
  }
 ],
 "metadata": {
  "kernelspec": {
   "display_name": "Python 3",
   "language": "python",
   "name": "python3"
  },
  "language_info": {
   "codemirror_mode": {
    "name": "ipython",
    "version": 3
   },
   "file_extension": ".py",
   "mimetype": "text/x-python",
   "name": "python",
   "nbconvert_exporter": "python",
   "pygments_lexer": "ipython3",
   "version": "3.8.8"
  }
 },
 "nbformat": 4,
 "nbformat_minor": 5
}
