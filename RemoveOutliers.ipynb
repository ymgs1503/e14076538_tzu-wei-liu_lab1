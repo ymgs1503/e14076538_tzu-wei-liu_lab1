{
 "cells": [
  {
   "cell_type": "code",
   "execution_count": 5,
   "id": "922221cf",
   "metadata": {},
   "outputs": [
    {
     "name": "stdout",
     "output_type": "stream",
     "text": [
      "Enter the number of smallest and largest valres to remave: 2\n",
      "Enter a value (q or Q to quit):1001\n",
      "Enter a value (q or Q to quit):2002\n",
      "Enter a value (q or Q to quit):1\n",
      "Enter a value (q or Q to quit):2\n",
      "Enter a value (q or Q to quit):-1001\n",
      "Enter a value (q or Q to quit):-20\n",
      "Enter a value (q or Q to quit):5\n",
      "Enter a value (q or Q to quit):4\n",
      "Enter a value (q or Q to quit):3\n",
      "Enter a value (q or Q to quit):1\n",
      "Enter a value (q or Q to quit):2\n",
      "Enter a value (q or Q to quit):3\n",
      "Enter a value (q or Q to quit):q\n",
      "The original data:  [1001, 2002, 1, 2, -1001, -20, 5, 4, 3, 1, 2, 3]\n",
      "The data with the outliers removed:  [1, 1, 2, 2, 3, 3, 4, 5]\n",
      "The outliers: [-1001, -20, 1001, 2002]\n"
     ]
    }
   ],
   "source": [
    "delete=int(input(\"Enter the number of smallest and largest valres to remave: \"))\n",
    "\n",
    "new='0'\n",
    "element=0\n",
    "num = []\n",
    "outliers=[]\n",
    "\n",
    "while(1):\n",
    "    new = input(\"Enter a value (q or Q to quit):\")\n",
    "    if new !='q'and new !='Q':    #只要不是Q或q則繼續輸入\n",
    "        num.append(int(new))      #將新輸入的加入list中\n",
    "        element+=1                #計算list中數字數量\n",
    "        #print(num)\n",
    "    else:\n",
    "        if(element<delete*2):   #避免輸入的數字比要刪除的數字還少的情況發生\n",
    "            print(\"The number of your data is less than the number you want to remove !\")\n",
    "        else:                   #輸入Q或q，且數字量足夠，則離開\n",
    "            break\n",
    "\n",
    "print(\"The original data: \",num)  #顯示原始輸入的list\n",
    "num.sort()                        #重新排序\n",
    "\n",
    "for count in range(delete):\n",
    "    outliers.append(num[0])   #將頭幾個要刪除的數字加入outliers的list中 \n",
    "    outliers.append(num[-1])  #將尾幾個也加入\n",
    "    del(num[0])             #刪除頭(特小的)\n",
    "    del(num[-1])            #刪除尾(特大的)\n",
    "print(\"The data with the outliers removed: \",num)   #印出刪除後的list\n",
    "outliers.sort()     #重新排列刪除的數字\n",
    "print(\"The outliers:\",outliers)  #印出被刪除的list"
   ]
  },
  {
   "cell_type": "code",
   "execution_count": null,
   "id": "95a4bb3f",
   "metadata": {},
   "outputs": [],
   "source": []
  }
 ],
 "metadata": {
  "kernelspec": {
   "display_name": "Python 3",
   "language": "python",
   "name": "python3"
  },
  "language_info": {
   "codemirror_mode": {
    "name": "ipython",
    "version": 3
   },
   "file_extension": ".py",
   "mimetype": "text/x-python",
   "name": "python",
   "nbconvert_exporter": "python",
   "pygments_lexer": "ipython3",
   "version": "3.8.8"
  }
 },
 "nbformat": 4,
 "nbformat_minor": 5
}
